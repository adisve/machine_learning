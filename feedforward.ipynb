{
 "cells": [
  {
   "cell_type": "code",
   "execution_count": 45,
   "metadata": {},
   "outputs": [],
   "source": [
    "import numpy as np\n",
    "import pandas as pd\n",
    "import matplotlib.pyplot as plt\n",
    "from sklearn.model_selection import train_test_split\n",
    "from sklearn.preprocessing import StandardScaler\n",
    "from imblearn.over_sampling import RandomOverSampler\n",
    "\n",
    "import tensorflow as tf\n",
    "import tensorflow_hub as hub"
   ]
  },
  {
   "cell_type": "code",
   "execution_count": 46,
   "metadata": {},
   "outputs": [],
   "source": [
    "df = pd.read_csv(\"sample_data/diabetes.csv\")"
   ]
  },
  {
   "cell_type": "code",
   "execution_count": 47,
   "metadata": {},
   "outputs": [],
   "source": [
    "# Split into x and y values (outcomes)\n",
    "X = df[df.columns[:-1]].values\n",
    "y = df[df.columns[-1]].values\n"
   ]
  },
  {
   "cell_type": "code",
   "execution_count": 48,
   "metadata": {},
   "outputs": [],
   "source": [
    "# Map values to normal distribution\n",
    "scaler = StandardScaler()\n",
    "X = scaler.fit_transform(X)"
   ]
  },
  {
   "cell_type": "code",
   "execution_count": 49,
   "metadata": {},
   "outputs": [],
   "source": [
    "over = RandomOverSampler()\n",
    "# Balance dataset in terms of outcomes\n",
    "X, y = over.fit_resample(X, y)"
   ]
  },
  {
   "cell_type": "code",
   "execution_count": 50,
   "metadata": {},
   "outputs": [],
   "source": [
    "X_train, X_temp, y_train, y_temp = train_test_split(X, y, test_size=0.4, random_state=0)\n",
    "# Break down further into 50/50\n",
    "X_valid, X_test, y_valid, y_test = train_test_split(X_temp, y_temp, test_size=0.5, random_state=0)"
   ]
  },
  {
   "cell_type": "code",
   "execution_count": 51,
   "metadata": {},
   "outputs": [],
   "source": [
    "model = tf.keras.Sequential([\n",
    "    # Layer of dense neural nets (every neuron in hidden layer receives neuron from input layer)\n",
    "    tf.keras.layers.Dense(16, activation='relu'), # if x < 0 then 0, else x\n",
    "    tf.keras.layers.Dense(16, activation='relu'),\n",
    "    tf.keras.layers.Dense(1, activation='sigmoid') # Maps input to probability \n",
    "])"
   ]
  },
  {
   "cell_type": "code",
   "execution_count": 52,
   "metadata": {},
   "outputs": [],
   "source": [
    "# Compile model\n",
    "# Binary cross entropy because of binary classifications\n",
    "model.compile(\n",
    "    optimizer=tf.keras.optimizers.Adam(learning_rate=0.001), \n",
    "    loss=tf.keras.losses.BinaryCrossentropy(),\n",
    "    metrics='accuracy')"
   ]
  },
  {
   "cell_type": "code",
   "execution_count": 53,
   "metadata": {},
   "outputs": [
    {
     "name": "stdout",
     "output_type": "stream",
     "text": [
      "19/19 [==============================] - 0s 645us/step - loss: 0.6999 - accuracy: 0.5617\n"
     ]
    },
    {
     "data": {
      "text/plain": [
       "[0.6999207735061646, 0.5616666674613953]"
      ]
     },
     "execution_count": 53,
     "metadata": {},
     "output_type": "execute_result"
    }
   ],
   "source": [
    "model.evaluate(X_train, y_train)"
   ]
  },
  {
   "cell_type": "code",
   "execution_count": 54,
   "metadata": {},
   "outputs": [
    {
     "name": "stdout",
     "output_type": "stream",
     "text": [
      "Epoch 1/20\n",
      "38/38 [==============================] - 1s 2ms/step - loss: 0.6697 - accuracy: 0.6083 - val_loss: 0.6315 - val_accuracy: 0.6800\n",
      "Epoch 2/20\n",
      "38/38 [==============================] - 0s 1ms/step - loss: 0.6259 - accuracy: 0.6667 - val_loss: 0.6082 - val_accuracy: 0.6950\n",
      "Epoch 3/20\n",
      "38/38 [==============================] - 0s 1ms/step - loss: 0.5987 - accuracy: 0.6983 - val_loss: 0.5881 - val_accuracy: 0.7050\n",
      "Epoch 4/20\n",
      "38/38 [==============================] - 0s 1ms/step - loss: 0.5779 - accuracy: 0.7117 - val_loss: 0.5716 - val_accuracy: 0.7050\n",
      "Epoch 5/20\n",
      "38/38 [==============================] - 0s 1ms/step - loss: 0.5600 - accuracy: 0.7233 - val_loss: 0.5521 - val_accuracy: 0.7100\n",
      "Epoch 6/20\n",
      "38/38 [==============================] - 0s 2ms/step - loss: 0.5453 - accuracy: 0.7250 - val_loss: 0.5367 - val_accuracy: 0.7250\n",
      "Epoch 7/20\n",
      "38/38 [==============================] - 0s 2ms/step - loss: 0.5328 - accuracy: 0.7267 - val_loss: 0.5206 - val_accuracy: 0.7200\n",
      "Epoch 8/20\n",
      "38/38 [==============================] - 0s 1ms/step - loss: 0.5209 - accuracy: 0.7267 - val_loss: 0.5056 - val_accuracy: 0.7450\n",
      "Epoch 9/20\n",
      "38/38 [==============================] - 0s 1ms/step - loss: 0.5102 - accuracy: 0.7367 - val_loss: 0.4931 - val_accuracy: 0.7600\n",
      "Epoch 10/20\n",
      "38/38 [==============================] - 0s 1ms/step - loss: 0.5013 - accuracy: 0.7400 - val_loss: 0.4824 - val_accuracy: 0.7700\n",
      "Epoch 11/20\n",
      "38/38 [==============================] - 0s 1ms/step - loss: 0.4937 - accuracy: 0.7483 - val_loss: 0.4783 - val_accuracy: 0.7900\n",
      "Epoch 12/20\n",
      "38/38 [==============================] - 0s 1ms/step - loss: 0.4887 - accuracy: 0.7467 - val_loss: 0.4728 - val_accuracy: 0.7950\n",
      "Epoch 13/20\n",
      "38/38 [==============================] - 0s 1ms/step - loss: 0.4828 - accuracy: 0.7483 - val_loss: 0.4653 - val_accuracy: 0.7900\n",
      "Epoch 14/20\n",
      "38/38 [==============================] - 0s 1ms/step - loss: 0.4802 - accuracy: 0.7483 - val_loss: 0.4619 - val_accuracy: 0.7900\n",
      "Epoch 15/20\n",
      "38/38 [==============================] - 0s 2ms/step - loss: 0.4745 - accuracy: 0.7483 - val_loss: 0.4597 - val_accuracy: 0.8000\n",
      "Epoch 16/20\n",
      "38/38 [==============================] - 0s 2ms/step - loss: 0.4704 - accuracy: 0.7533 - val_loss: 0.4587 - val_accuracy: 0.7950\n",
      "Epoch 17/20\n",
      "38/38 [==============================] - 0s 1ms/step - loss: 0.4675 - accuracy: 0.7600 - val_loss: 0.4561 - val_accuracy: 0.8000\n",
      "Epoch 18/20\n",
      "38/38 [==============================] - 0s 1ms/step - loss: 0.4649 - accuracy: 0.7617 - val_loss: 0.4547 - val_accuracy: 0.8000\n",
      "Epoch 19/20\n",
      "38/38 [==============================] - 0s 1ms/step - loss: 0.4617 - accuracy: 0.7650 - val_loss: 0.4570 - val_accuracy: 0.8050\n",
      "Epoch 20/20\n",
      "38/38 [==============================] - 0s 1ms/step - loss: 0.4597 - accuracy: 0.7683 - val_loss: 0.4559 - val_accuracy: 0.8150\n"
     ]
    },
    {
     "data": {
      "text/plain": [
       "<keras.callbacks.History at 0x146c19050>"
      ]
     },
     "execution_count": 54,
     "metadata": {},
     "output_type": "execute_result"
    }
   ],
   "source": [
    "# Train model\n",
    "# Batch size = term referring to number of training \n",
    "# examples (women) used in each iteration\n",
    "model.fit(X_train, y_train, batch_size=16, epochs=20, validation_data=(X_valid, y_valid))\n",
    "\n",
    "# Features are very different in range/variance. We need to standardize them"
   ]
  },
  {
   "cell_type": "code",
   "execution_count": 55,
   "metadata": {},
   "outputs": [
    {
     "name": "stdout",
     "output_type": "stream",
     "text": [
      "7/7 [==============================] - 0s 797us/step - loss: 0.4738 - accuracy: 0.7800\n"
     ]
    },
    {
     "data": {
      "text/plain": [
       "[0.4738296866416931, 0.7799999713897705]"
      ]
     },
     "execution_count": 55,
     "metadata": {},
     "output_type": "execute_result"
    }
   ],
   "source": [
    "model.evaluate(X_test, y_test)"
   ]
  }
 ],
 "metadata": {
  "kernelspec": {
   "display_name": ".venv",
   "language": "python",
   "name": "python3"
  },
  "language_info": {
   "codemirror_mode": {
    "name": "ipython",
    "version": 3
   },
   "file_extension": ".py",
   "mimetype": "text/x-python",
   "name": "python",
   "nbconvert_exporter": "python",
   "pygments_lexer": "ipython3",
   "version": "3.11.2"
  },
  "orig_nbformat": 4
 },
 "nbformat": 4,
 "nbformat_minor": 2
}
